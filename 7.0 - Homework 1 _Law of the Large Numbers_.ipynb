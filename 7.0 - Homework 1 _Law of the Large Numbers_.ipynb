{
 "cells": [
  {
   "cell_type": "markdown",
   "metadata": {},
   "source": [
    "# Law of Large Numbers"
   ]
  },
  {
   "cell_type": "markdown",
   "metadata": {},
   "source": [
    "## Teoria\n",
    "\n",
    "A lei dos grandes números (LGN) é um teorema fundamental da teoria da probabilidade, que descreve o resultado da realização da mesma experiência repetidas vezes. De acordo com a LGN, a média aritmética dos resultados da realização da mesma experiência repetidas vezes tende a se aproximar do valor esperado à medida que mais tentativas se sucederem. Em outras palavras, quanto mais tentativas são realizadas, mais a probabilidade da média aritmética dos resultados observados irá se aproximar da probabilidade real.\n",
    "\n",
    "A LGN tem aplicações práticas na ciência de modo geral, tal como na agricultura e na economia, dentre outras áreas importantes. É possível descobrir por meio de numerosas observações e de experiências suficientes a probabilidade de um evento natural acontecer (por exemplo, a probabilidade de chover) ou de uma fração de uma população satisfazer a uma condição (por exemplo, a probabilidade de ser produzida uma determinada quantidade de peças defeituosas em uma linha de montagem).\n",
    "\n",
    "A LGN é importante ainda porque garante resultados estáveis a longo prazo para médias de eventos aleatórios. Considere um caso particular de um jogo de roleta em um cassino. Embora o cassino possa perder dinheiro em uma única rodada de uma roleta, os seus ganhos tenderão a se aproximar de uma probabilidade da média aritmética dos resultados observados depois de um grande número de rodadas. De outra forma, qualquer série de vitórias de um apostador será superada pelos parâmetros do jogo depois de algumas rodadas.\n",
    "\n",
    "Entretanto, a LGN se aplica apenas para um grande número de observações. Não há princípio para que um pequeno número de observações coincida com o valor esperado ou para que a sequência de um valor seja superada por outro valor imediatamente."
   ]
  },
  {
   "cell_type": "markdown",
   "metadata": {},
   "source": [
    "## Homework\n",
    "\n",
    "Test the law of Large numbers for N random normally distribuited numbers with mean = 0, stdev = 1\n",
    "\n",
    "\n",
    "Create a Python scritp that will count how many of these numbers fall between = -1 and 1 and divide by the quantity of N\n",
    "\n",
    "you know that E(x) = 68.2%\n",
    "\n",
    "Check that mean(Xn) -> E(x) as you rerun your script while incrasing N\n"
   ]
  },
  {
   "cell_type": "code",
   "execution_count": null,
   "metadata": {},
   "outputs": [],
   "source": [
    "## Hint 1 \n",
    "\n",
    "for i in randn(100):\n",
    "    #...\n",
    "    \n",
    "## Hint 2\n",
    "\n",
    "import numpy as np               \n",
    "from numpy.random import randn\n",
    "N = _                                     # specify sample size\n",
    "counter = _                               # reset counter\n",
    "for _ _ randn(N)                          # iterate over random values \n",
    "    if (_ _ _and _ _ _):                  # check where iterate variable falls \n",
    "    counter = _ _ _                       # increase counter if condition is met\n",
    "answer = counter / N                      # calculate hit-ratio\n",
    "print (answer)                            # print answer"
   ]
  },
  {
   "cell_type": "code",
   "execution_count": null,
   "metadata": {},
   "outputs": [],
   "source": []
  }
 ],
 "metadata": {
  "kernelspec": {
   "display_name": "Python 3",
   "language": "python",
   "name": "python3"
  },
  "language_info": {
   "codemirror_mode": {
    "name": "ipython",
    "version": 3
   },
   "file_extension": ".py",
   "mimetype": "text/x-python",
   "name": "python",
   "nbconvert_exporter": "python",
   "pygments_lexer": "ipython3",
   "version": "3.7.6"
  }
 },
 "nbformat": 4,
 "nbformat_minor": 4
}
